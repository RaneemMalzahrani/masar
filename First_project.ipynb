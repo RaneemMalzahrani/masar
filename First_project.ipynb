{
  "nbformat": 4,
  "nbformat_minor": 0,
  "metadata": {
    "colab": {
      "provenance": [],
      "authorship_tag": "ABX9TyN87k6HInFFw/bGqxN5mwSE",
      "include_colab_link": true
    },
    "kernelspec": {
      "name": "python3",
      "display_name": "Python 3"
    },
    "language_info": {
      "name": "python"
    }
  },
  "cells": [
    {
      "cell_type": "markdown",
      "metadata": {
        "id": "view-in-github",
        "colab_type": "text"
      },
      "source": [
        "<a href=\"https://colab.research.google.com/github/RaneemMalzahrani/masar/blob/main/First_project.ipynb\" target=\"_parent\"><img src=\"https://colab.research.google.com/assets/colab-badge.svg\" alt=\"Open In Colab\"/></a>"
      ]
    },
    {
      "cell_type": "markdown",
      "source": [
        "## project N:1"
      ],
      "metadata": {
        "id": "6k5b6BXyS2in"
      }
    },
    {
      "cell_type": "code",
      "source": [
        "print(\"My name is Raneem \")"
      ],
      "metadata": {
        "colab": {
          "base_uri": "https://localhost:8080/"
        },
        "id": "dLnM3l4HTCep",
        "outputId": "e57b064e-f1ba-4014-849f-c69bc97546e0"
      },
      "execution_count": null,
      "outputs": [
        {
          "output_type": "stream",
          "name": "stdout",
          "text": [
            "My name is Raneem \n"
          ]
        }
      ]
    },
    {
      "cell_type": "markdown",
      "source": [
        "## Project N:2"
      ],
      "metadata": {
        "id": "AemqoTEMTNrb"
      }
    },
    {
      "cell_type": "code",
      "source": [
        "i=4\n",
        "f= 6\n",
        "print(\"i+f\", \"=\", i+f)"
      ],
      "metadata": {
        "colab": {
          "base_uri": "https://localhost:8080/"
        },
        "id": "1ASAb8dFUG53",
        "outputId": "2f6b0f82-7d86-4032-9460-d90a56b059b8"
      },
      "execution_count": null,
      "outputs": [
        {
          "output_type": "stream",
          "name": "stdout",
          "text": [
            "i+f = 10\n"
          ]
        }
      ]
    }
  ]
}